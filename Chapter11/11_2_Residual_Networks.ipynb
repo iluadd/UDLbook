{
 "cells": [
  {
   "cell_type": "markdown",
   "metadata": {
    "colab_type": "text",
    "id": "view-in-github"
   },
   "source": [
    "<a href=\"https://colab.research.google.com/github/udlbook/udlbook/blob/main/Notebooks/Chap11/11_2_Residual_Networks.ipynb\" target=\"_parent\"><img src=\"https://colab.research.google.com/assets/colab-badge.svg\" alt=\"Open In Colab\"/></a>"
   ]
  },
  {
   "cell_type": "markdown",
   "metadata": {
    "id": "t9vk9Elugvmi"
   },
   "source": [
    "# **Notebook 11.2: Residual Networks**\n",
    "\n",
    "This notebook adapts the networks for MNIST1D to use residual connections.\n",
    "\n",
    "Work through the cells below, running each cell in turn. In various places you will see the words \"TO DO\". Follow the instructions at these places and make predictions about what is going to happen or write code to complete the functions.\n",
    "\n",
    "Contact me at udlbookmail@gmail.com if you find any mistakes or have any suggestions.\n",
    "\n"
   ]
  },
  {
   "cell_type": "code",
   "execution_count": null,
   "metadata": {
    "id": "D5yLObtZCi9J"
   },
   "outputs": [],
   "source": [
    "# Run this if you're in a Colab to make a local copy of the MNIST 1D repository\n",
    "!git clone https://github.com/greydanus/mnist1d"
   ]
  },
  {
   "cell_type": "code",
   "execution_count": 1,
   "metadata": {
    "id": "YrXWAH7sUWvU"
   },
   "outputs": [],
   "source": [
    "import numpy as np\n",
    "import os\n",
    "import torch, torch.nn as nn\n",
    "from torch.utils.data import TensorDataset, DataLoader\n",
    "from torch.optim.lr_scheduler import StepLR\n",
    "import matplotlib.pyplot as plt\n",
    "import mnist1d\n",
    "import random"
   ]
  },
  {
   "cell_type": "code",
   "execution_count": 2,
   "metadata": {
    "id": "twI72ZCrCt5z"
   },
   "outputs": [
    {
     "name": "stdout",
     "output_type": "stream",
     "text": [
      "Did or could not load data from ./mnist1d_data.pkl. Rebuilding dataset...\n",
      "Examples in training set: 4000\n",
      "Examples in test set: 1000\n",
      "Length of each example: 40\n"
     ]
    }
   ],
   "source": [
    "args = mnist1d.data.get_dataset_args()\n",
    "data = mnist1d.data.get_dataset(args, path='./mnist1d_data.pkl', download=False, regenerate=False)\n",
    "\n",
    "# The training and test input and outputs are in\n",
    "# data['x'], data['y'], data['x_test'], and data['y_test']\n",
    "print(\"Examples in training set: {}\".format(len(data['y'])))\n",
    "print(\"Examples in test set: {}\".format(len(data['y_test'])))\n",
    "print(\"Length of each example: {}\".format(data['x'].shape[-1]))"
   ]
  },
  {
   "cell_type": "code",
   "execution_count": 3,
   "metadata": {
    "id": "8bKADvLHbiV5"
   },
   "outputs": [
    {
     "name": "stdout",
     "output_type": "stream",
     "text": [
      "Train data: 4000 examples (columns), each of which has 40 dimensions (rows)\n",
      "Validation data: 1000 examples (columns), each of which has 40 dimensions (rows)\n"
     ]
    }
   ],
   "source": [
    "# Load in the data\n",
    "train_data_x = data['x'].transpose()\n",
    "train_data_y = data['y']\n",
    "val_data_x = data['x_test'].transpose()\n",
    "val_data_y = data['y_test']\n",
    "# Print out sizes\n",
    "print(\"Train data: %d examples (columns), each of which has %d dimensions (rows)\"%((train_data_x.shape[1],train_data_x.shape[0])))\n",
    "print(\"Validation data: %d examples (columns), each of which has %d dimensions (rows)\"%((val_data_x.shape[1],val_data_x.shape[0])))"
   ]
  },
  {
   "cell_type": "markdown",
   "metadata": {
    "id": "_sFvRDGrl4qe"
   },
   "source": [
    "Define the network"
   ]
  },
  {
   "attachments": {
    "ee2438ef-913e-4bc4-a19f-9f18c3399ca8.png": {
     "image/png": "[encoded data removed]"
    }
   },
   "cell_type": "markdown",
   "metadata": {},
   "source": [
    "![image.png](attachment:ee2438ef-913e-4bc4-a19f-9f18c3399ca8.png)"
   ]
  },
  {
   "cell_type": "code",
   "execution_count": 16,
   "metadata": {
    "id": "FslroPJJffrh"
   },
   "outputs": [],
   "source": [
    "# There are 40 input dimensions and 10 output dimensions for this data\n",
    "# The inputs correspond to the 40 offsets in the MNIST1D template.\n",
    "D_i = 40\n",
    "# The outputs correspond to the 10 digits\n",
    "D_o = 10\n",
    "\n",
    "\n",
    "# We will adapt this model to have residual connections around the linear layers\n",
    "# This is the same model we used in practical 8.1, but we can't use the sequential\n",
    "# class for residual networks (which aren't strictly sequential).  Hence, I've rewritten\n",
    "# it as a model that inherits from a base class\n",
    "\n",
    "class ResidualNetwork(torch.nn.Module):\n",
    "    def __init__(self, input_size, output_size, hidden_size=100):\n",
    "        super(ResidualNetwork, self).__init__()\n",
    "        self.linear1 = nn.Linear(input_size, hidden_size)\n",
    "        self.linear2 = nn.Linear(hidden_size, hidden_size)\n",
    "        self.linear3 = nn.Linear(hidden_size, hidden_size)\n",
    "        self.linear4 = nn.Linear(hidden_size, output_size)\n",
    "        print(\"Initialized MLPBase model with {} parameters\".format(self.count_params()))\n",
    "    \n",
    "    def count_params(self):\n",
    "        return sum([p.view(-1).shape[0] for p in self.parameters()])\n",
    "    \n",
    "    # TODO -- Add residual connections to this model\n",
    "    # The order of operations within each block should similar to figure 11.5b\n",
    "    # ie., linear1 first, ReLU+linear2 in first residual block, ReLU+linear3 in second residual block), linear4 at end\n",
    "    # Replace this function\n",
    "    def forward(self, x):\n",
    "        h1 = self.linear1(x)\n",
    "        h2 = h1 + self.linear2(h1.relu())\n",
    "        h3 = h2 + self.linear3(h2.relu())\n",
    "        return self.linear4(h3)\n"
   ]
  },
  {
   "cell_type": "code",
   "execution_count": 10,
   "metadata": {
    "id": "YgLaex1pfhqz"
   },
   "outputs": [],
   "source": [
    "# He initialization of weights\n",
    "def weights_init(layer_in):\n",
    "  if isinstance(layer_in, nn.Linear):\n",
    "    nn.init.kaiming_uniform_(layer_in.weight)\n",
    "    layer_in.bias.data.fill_(0.0)"
   ]
  },
  {
   "cell_type": "code",
   "execution_count": 11,
   "metadata": {
    "id": "NYw8I_3mmX5c"
   },
   "outputs": [
    {
     "name": "stdout",
     "output_type": "stream",
     "text": [
      "Initialized MLPBase model with 25310 parameters\n",
      "Epoch     0, train loss 1.700476, train error 61.55,  val loss 1.869503, percent error 69.10\n",
      "Epoch     1, train loss 1.135667, train error 43.03,  val loss 1.275032, percent error 48.90\n",
      "Epoch     2, train loss 0.987239, train error 37.28,  val loss 1.170260, percent error 45.00\n",
      "Epoch     3, train loss 0.893817, train error 34.60,  val loss 1.140764, percent error 44.30\n",
      "Epoch     4, train loss 0.841269, train error 31.97,  val loss 1.164023, percent error 43.90\n",
      "Epoch     5, train loss 0.711773, train error 25.90,  val loss 1.053364, percent error 39.10\n",
      "Epoch     6, train loss 0.683039, train error 25.97,  val loss 1.150902, percent error 42.80\n",
      "Epoch     7, train loss 0.665666, train error 25.45,  val loss 1.155850, percent error 40.10\n",
      "Epoch     8, train loss 0.575764, train error 22.03,  val loss 1.139156, percent error 38.60\n",
      "Epoch     9, train loss 0.533526, train error 19.57,  val loss 1.157994, percent error 39.10\n",
      "Epoch    10, train loss 0.502119, train error 19.05,  val loss 1.219745, percent error 40.40\n",
      "Epoch    11, train loss 0.453634, train error 16.62,  val loss 1.265250, percent error 41.00\n",
      "Epoch    12, train loss 0.507169, train error 18.60,  val loss 1.309267, percent error 38.70\n",
      "Epoch    13, train loss 0.421869, train error 15.88,  val loss 1.288767, percent error 37.00\n",
      "Epoch    14, train loss 0.361621, train error 13.82,  val loss 1.349792, percent error 37.50\n",
      "Epoch    15, train loss 0.411485, train error 15.30,  val loss 1.486034, percent error 39.30\n",
      "Epoch    16, train loss 0.314938, train error 11.35,  val loss 1.363491, percent error 37.80\n",
      "Epoch    17, train loss 0.275039, train error 9.97,  val loss 1.342429, percent error 36.70\n",
      "Epoch    18, train loss 0.233785, train error 8.97,  val loss 1.296170, percent error 35.50\n",
      "Epoch    19, train loss 0.291407, train error 10.72,  val loss 1.641569, percent error 36.00\n",
      "Epoch    20, train loss 0.077672, train error 2.22,  val loss 1.308404, percent error 33.90\n",
      "Epoch    21, train loss 0.039170, train error 0.38,  val loss 1.314906, percent error 32.50\n",
      "Epoch    22, train loss 0.025701, train error 0.07,  val loss 1.347866, percent error 32.10\n",
      "Epoch    23, train loss 0.016934, train error 0.00,  val loss 1.381577, percent error 33.00\n",
      "Epoch    24, train loss 0.013884, train error 0.00,  val loss 1.421483, percent error 33.10\n",
      "Epoch    25, train loss 0.011441, train error 0.00,  val loss 1.451062, percent error 33.30\n",
      "Epoch    26, train loss 0.010291, train error 0.00,  val loss 1.470684, percent error 32.10\n",
      "Epoch    27, train loss 0.008980, train error 0.00,  val loss 1.498943, percent error 32.90\n",
      "Epoch    28, train loss 0.007929, train error 0.00,  val loss 1.516392, percent error 33.10\n",
      "Epoch    29, train loss 0.007176, train error 0.00,  val loss 1.540656, percent error 32.90\n",
      "Epoch    30, train loss 0.006576, train error 0.00,  val loss 1.555686, percent error 33.00\n",
      "Epoch    31, train loss 0.006041, train error 0.00,  val loss 1.573541, percent error 32.70\n",
      "Epoch    32, train loss 0.005629, train error 0.00,  val loss 1.589174, percent error 33.30\n",
      "Epoch    33, train loss 0.005236, train error 0.00,  val loss 1.604192, percent error 32.70\n",
      "Epoch    34, train loss 0.004878, train error 0.00,  val loss 1.620311, percent error 33.10\n",
      "Epoch    35, train loss 0.004573, train error 0.00,  val loss 1.632743, percent error 32.60\n",
      "Epoch    36, train loss 0.004322, train error 0.00,  val loss 1.644044, percent error 32.70\n",
      "Epoch    37, train loss 0.004080, train error 0.00,  val loss 1.657631, percent error 32.80\n",
      "Epoch    38, train loss 0.003862, train error 0.00,  val loss 1.671041, percent error 32.80\n",
      "Epoch    39, train loss 0.003692, train error 0.00,  val loss 1.682515, percent error 32.70\n",
      "Epoch    40, train loss 0.003577, train error 0.00,  val loss 1.685545, percent error 32.90\n",
      "Epoch    41, train loss 0.003493, train error 0.00,  val loss 1.690553, percent error 33.00\n",
      "Epoch    42, train loss 0.003412, train error 0.00,  val loss 1.697438, percent error 32.80\n",
      "Epoch    43, train loss 0.003336, train error 0.00,  val loss 1.700850, percent error 33.00\n",
      "Epoch    44, train loss 0.003262, train error 0.00,  val loss 1.705204, percent error 33.00\n",
      "Epoch    45, train loss 0.003191, train error 0.00,  val loss 1.710840, percent error 33.00\n",
      "Epoch    46, train loss 0.003125, train error 0.00,  val loss 1.715627, percent error 32.90\n",
      "Epoch    47, train loss 0.003059, train error 0.00,  val loss 1.719430, percent error 33.00\n",
      "Epoch    48, train loss 0.002996, train error 0.00,  val loss 1.724693, percent error 33.00\n",
      "Epoch    49, train loss 0.002936, train error 0.00,  val loss 1.729156, percent error 33.00\n",
      "Epoch    50, train loss 0.002879, train error 0.00,  val loss 1.732167, percent error 33.10\n",
      "Epoch    51, train loss 0.002822, train error 0.00,  val loss 1.738075, percent error 33.00\n",
      "Epoch    52, train loss 0.002768, train error 0.00,  val loss 1.742624, percent error 33.00\n",
      "Epoch    53, train loss 0.002717, train error 0.00,  val loss 1.745860, percent error 33.00\n",
      "Epoch    54, train loss 0.002665, train error 0.00,  val loss 1.750480, percent error 33.00\n",
      "Epoch    55, train loss 0.002617, train error 0.00,  val loss 1.753437, percent error 33.10\n",
      "Epoch    56, train loss 0.002571, train error 0.00,  val loss 1.758507, percent error 33.00\n",
      "Epoch    57, train loss 0.002526, train error 0.00,  val loss 1.761821, percent error 33.20\n",
      "Epoch    58, train loss 0.002483, train error 0.00,  val loss 1.766058, percent error 33.40\n",
      "Epoch    59, train loss 0.002440, train error 0.00,  val loss 1.769524, percent error 33.40\n",
      "Epoch    60, train loss 0.002419, train error 0.00,  val loss 1.771335, percent error 33.50\n",
      "Epoch    61, train loss 0.002398, train error 0.00,  val loss 1.773328, percent error 33.40\n",
      "Epoch    62, train loss 0.002379, train error 0.00,  val loss 1.775201, percent error 33.40\n",
      "Epoch    63, train loss 0.002359, train error 0.00,  val loss 1.776992, percent error 33.40\n",
      "Epoch    64, train loss 0.002340, train error 0.00,  val loss 1.778658, percent error 33.50\n",
      "Epoch    65, train loss 0.002321, train error 0.00,  val loss 1.780218, percent error 33.50\n",
      "Epoch    66, train loss 0.002302, train error 0.00,  val loss 1.782334, percent error 33.50\n",
      "Epoch    67, train loss 0.002284, train error 0.00,  val loss 1.784557, percent error 33.50\n",
      "Epoch    68, train loss 0.002266, train error 0.00,  val loss 1.785691, percent error 33.40\n",
      "Epoch    69, train loss 0.002248, train error 0.00,  val loss 1.787559, percent error 33.50\n",
      "Epoch    70, train loss 0.002230, train error 0.00,  val loss 1.789205, percent error 33.50\n",
      "Epoch    71, train loss 0.002213, train error 0.00,  val loss 1.791453, percent error 33.50\n",
      "Epoch    72, train loss 0.002196, train error 0.00,  val loss 1.792879, percent error 33.50\n",
      "Epoch    73, train loss 0.002179, train error 0.00,  val loss 1.794489, percent error 33.50\n",
      "Epoch    74, train loss 0.002163, train error 0.00,  val loss 1.796052, percent error 33.50\n",
      "Epoch    75, train loss 0.002146, train error 0.00,  val loss 1.797945, percent error 33.50\n",
      "Epoch    76, train loss 0.002130, train error 0.00,  val loss 1.799885, percent error 33.50\n",
      "Epoch    77, train loss 0.002115, train error 0.00,  val loss 1.801118, percent error 33.40\n",
      "Epoch    78, train loss 0.002099, train error 0.00,  val loss 1.802940, percent error 33.50\n",
      "Epoch    79, train loss 0.002083, train error 0.00,  val loss 1.804391, percent error 33.40\n",
      "Epoch    80, train loss 0.002075, train error 0.00,  val loss 1.805382, percent error 33.40\n",
      "Epoch    81, train loss 0.002068, train error 0.00,  val loss 1.806244, percent error 33.40\n",
      "Epoch    82, train loss 0.002060, train error 0.00,  val loss 1.807035, percent error 33.40\n",
      "Epoch    83, train loss 0.002053, train error 0.00,  val loss 1.807715, percent error 33.40\n",
      "Epoch    84, train loss 0.002045, train error 0.00,  val loss 1.808381, percent error 33.40\n",
      "Epoch    85, train loss 0.002038, train error 0.00,  val loss 1.809217, percent error 33.40\n",
      "Epoch    86, train loss 0.002030, train error 0.00,  val loss 1.810183, percent error 33.40\n",
      "Epoch    87, train loss 0.002023, train error 0.00,  val loss 1.810964, percent error 33.40\n",
      "Epoch    88, train loss 0.002016, train error 0.00,  val loss 1.811666, percent error 33.40\n",
      "Epoch    89, train loss 0.002009, train error 0.00,  val loss 1.812546, percent error 33.40\n",
      "Epoch    90, train loss 0.002002, train error 0.00,  val loss 1.813322, percent error 33.40\n",
      "Epoch    91, train loss 0.001995, train error 0.00,  val loss 1.814104, percent error 33.40\n",
      "Epoch    92, train loss 0.001988, train error 0.00,  val loss 1.814795, percent error 33.40\n",
      "Epoch    93, train loss 0.001980, train error 0.00,  val loss 1.815810, percent error 33.40\n",
      "Epoch    94, train loss 0.001973, train error 0.00,  val loss 1.816612, percent error 33.40\n",
      "Epoch    95, train loss 0.001967, train error 0.00,  val loss 1.817176, percent error 33.40\n",
      "Epoch    96, train loss 0.001960, train error 0.00,  val loss 1.817993, percent error 33.40\n",
      "Epoch    97, train loss 0.001953, train error 0.00,  val loss 1.818803, percent error 33.40\n",
      "Epoch    98, train loss 0.001946, train error 0.00,  val loss 1.819531, percent error 33.40\n",
      "Epoch    99, train loss 0.001939, train error 0.00,  val loss 1.820387, percent error 33.50\n"
     ]
    }
   ],
   "source": [
    "#Define the model\n",
    "model = ResidualNetwork(40, 10)\n",
    "\n",
    "# choose cross entropy loss function (equation 5.24 in the loss notes)\n",
    "loss_function = nn.CrossEntropyLoss()\n",
    "# construct SGD optimizer and initialize learning rate and momentum\n",
    "optimizer = torch.optim.SGD(model.parameters(), lr = 0.05, momentum=0.9)\n",
    "# object that decreases learning rate by half every 20 epochs\n",
    "scheduler = StepLR(optimizer, step_size=20, gamma=0.5)\n",
    "# convert data to torch tensors\n",
    "x_train = torch.tensor(train_data_x.transpose().astype('float32'))\n",
    "y_train = torch.tensor(train_data_y.astype('long'))\n",
    "x_val= torch.tensor(val_data_x.transpose().astype('float32'))\n",
    "y_val = torch.tensor(val_data_y.astype('long'))\n",
    "\n",
    "# load the data into a class that creates the batches\n",
    "data_loader = DataLoader(TensorDataset(x_train,y_train), batch_size=100, shuffle=True, worker_init_fn=np.random.seed(1))\n",
    "\n",
    "# Initialize model weights\n",
    "model.apply(weights_init)\n",
    "\n",
    "# loop over the dataset n_epoch times\n",
    "n_epoch = 100\n",
    "# store the loss and the % correct at each epoch\n",
    "losses_train = np.zeros((n_epoch))\n",
    "errors_train = np.zeros((n_epoch))\n",
    "losses_val = np.zeros((n_epoch))\n",
    "errors_val = np.zeros((n_epoch))\n",
    "\n",
    "for epoch in range(n_epoch):\n",
    "  # loop over batches\n",
    "  for i, data in enumerate(data_loader):\n",
    "    # retrieve inputs and labels for this batch\n",
    "    x_batch, y_batch = data\n",
    "    # zero the parameter gradients\n",
    "    optimizer.zero_grad()\n",
    "    # forward pass -- calculate model output\n",
    "    pred = model(x_batch)\n",
    "    # compute the loss\n",
    "    loss = loss_function(pred, y_batch)\n",
    "    # backward pass\n",
    "    loss.backward()\n",
    "    # SGD update\n",
    "    optimizer.step()\n",
    "\n",
    "  # Run whole dataset to get statistics -- normally wouldn't do this\n",
    "  pred_train = model(x_train)\n",
    "  pred_val = model(x_val)\n",
    "  _, predicted_train_class = torch.max(pred_train.data, 1)\n",
    "  _, predicted_val_class = torch.max(pred_val.data, 1)\n",
    "  errors_train[epoch] = 100 - 100 * (predicted_train_class == y_train).float().sum() / len(y_train)\n",
    "  errors_val[epoch]= 100 - 100 * (predicted_val_class == y_val).float().sum() / len(y_val)\n",
    "  losses_train[epoch] = loss_function(pred_train, y_train).item()\n",
    "  losses_val[epoch]= loss_function(pred_val, y_val).item()\n",
    "  print(f'Epoch {epoch:5d}, train loss {losses_train[epoch]:.6f}, train error {errors_train[epoch]:3.2f},  val loss {losses_val[epoch]:.6f}, percent error {errors_val[epoch]:3.2f}')\n",
    "\n",
    "  # tell scheduler to consider updating learning rate\n",
    "  scheduler.step()"
   ]
  },
  {
   "cell_type": "code",
   "execution_count": 12,
   "metadata": {
    "id": "CcP_VyEmE2sv"
   },
   "outputs": [
    {
     "data": {
      "image/png": "[encoded data removed]",
      "text/plain": [
       "<Figure size 640x480 with 1 Axes>"
      ]
     },
     "metadata": {},
     "output_type": "display_data"
    }
   ],
   "source": [
    "# Plot the results\n",
    "fig, ax = plt.subplots()\n",
    "ax.plot(errors_train,'r-',label='train')\n",
    "ax.plot(errors_val,'b-',label='test')\n",
    "ax.set_ylim(0,100); ax.set_xlim(0,n_epoch)\n",
    "ax.set_xlabel('Epoch'); ax.set_ylabel('Error')\n",
    "ax.set_title('TrainError %3.2f, Val Error %3.2f'%(errors_train[-1],errors_val[-1]))\n",
    "ax.legend()\n",
    "plt.show()"
   ]
  },
  {
   "cell_type": "markdown",
   "metadata": {
    "id": "wMmqhmxuAx0M"
   },
   "source": [
    "The primary motivation of residual networks is to allow training of much deeper networks.   \n",
    "\n",
    "TODO: Try running this network with and without the residual connections.  Does adding the residual connections change the performance?"
   ]
  },
  {
   "cell_type": "markdown",
   "metadata": {},
   "source": [
    " *Not really*"
   ]
  },
  {
   "cell_type": "code",
   "execution_count": 13,
   "metadata": {},
   "outputs": [],
   "source": [
    "# There are 40 input dimensions and 10 output dimensions for this data\n",
    "# The inputs correspond to the 40 offsets in the MNIST1D template.\n",
    "D_i = 40\n",
    "# The outputs correspond to the 10 digits\n",
    "D_o = 10\n",
    "\n",
    "\n",
    "# We will adapt this model to have residual connections around the linear layers\n",
    "# This is the same model we used in practical 8.1, but we can't use the sequential\n",
    "# class for residual networks (which aren't strictly sequential).  Hence, I've rewritten\n",
    "# it as a model that inherits from a base class\n",
    "\n",
    "class ResidualNetwork(torch.nn.Module):\n",
    "    def __init__(self, input_size, output_size, hidden_size=100):\n",
    "        super(ResidualNetwork, self).__init__()\n",
    "        self.linear1 = nn.Linear(input_size, hidden_size)\n",
    "        self.linear2 = nn.Linear(hidden_size, hidden_size)\n",
    "        self.linear3 = nn.Linear(hidden_size, hidden_size)\n",
    "        self.linear4 = nn.Linear(hidden_size, output_size)\n",
    "        print(\"Initialized MLPBase model with {} parameters\".format(self.count_params()))\n",
    "    \n",
    "    def count_params(self):\n",
    "        return sum([p.view(-1).shape[0] for p in self.parameters()])\n",
    "    \n",
    "    # TODO -- Add residual connections to this model\n",
    "    # The order of operations within each block should similar to figure 11.5b\n",
    "    # ie., linear1 first, ReLU+linear2 in first residual block, ReLU+linear3 in second residual block), linear4 at end\n",
    "    # Replace this function\n",
    "   \n",
    "    def forward(self, x):\n",
    "        h1 = self.linear1(x).relu()\n",
    "        h2 = self.linear2(h1).relu()\n",
    "        h3 = self.linear3(h2).relu()\n",
    "        return self.linear4(h3)\n"
   ]
  },
  {
   "cell_type": "code",
   "execution_count": 14,
   "metadata": {},
   "outputs": [
    {
     "name": "stdout",
     "output_type": "stream",
     "text": [
      "Initialized MLPBase model with 25310 parameters\n",
      "Epoch     0, train loss 1.600810, train error 61.62,  val loss 1.670648, percent error 67.30\n",
      "Epoch     1, train loss 1.309333, train error 49.45,  val loss 1.476889, percent error 59.00\n",
      "Epoch     2, train loss 1.215265, train error 46.33,  val loss 1.437451, percent error 57.10\n",
      "Epoch     3, train loss 0.961275, train error 35.18,  val loss 1.237693, percent error 47.60\n",
      "Epoch     4, train loss 0.835165, train error 29.32,  val loss 1.192415, percent error 46.10\n",
      "Epoch     5, train loss 0.792836, train error 29.12,  val loss 1.204229, percent error 46.70\n",
      "Epoch     6, train loss 0.638838, train error 23.03,  val loss 1.174636, percent error 44.00\n",
      "Epoch     7, train loss 0.523378, train error 18.22,  val loss 1.097010, percent error 40.00\n",
      "Epoch     8, train loss 0.456539, train error 15.15,  val loss 1.150345, percent error 39.40\n",
      "Epoch     9, train loss 0.393010, train error 13.20,  val loss 1.145150, percent error 37.70\n",
      "Epoch    10, train loss 0.301850, train error 9.85,  val loss 1.204896, percent error 39.80\n",
      "Epoch    11, train loss 0.273885, train error 9.00,  val loss 1.272854, percent error 39.80\n",
      "Epoch    12, train loss 0.255710, train error 8.60,  val loss 1.321929, percent error 38.10\n",
      "Epoch    13, train loss 0.220932, train error 7.25,  val loss 1.271115, percent error 38.30\n",
      "Epoch    14, train loss 0.191474, train error 5.97,  val loss 1.404765, percent error 37.80\n",
      "Epoch    15, train loss 0.157126, train error 4.55,  val loss 1.401537, percent error 38.30\n",
      "Epoch    16, train loss 0.119675, train error 3.15,  val loss 1.421811, percent error 35.90\n",
      "Epoch    17, train loss 0.149849, train error 4.78,  val loss 1.610892, percent error 38.50\n",
      "Epoch    18, train loss 0.138851, train error 4.82,  val loss 1.606559, percent error 38.40\n",
      "Epoch    19, train loss 0.169319, train error 5.85,  val loss 1.737242, percent error 38.60\n",
      "Epoch    20, train loss 0.044877, train error 0.62,  val loss 1.560902, percent error 34.00\n",
      "Epoch    21, train loss 0.014598, train error 0.00,  val loss 1.493996, percent error 33.80\n",
      "Epoch    22, train loss 0.009915, train error 0.00,  val loss 1.525256, percent error 34.50\n",
      "Epoch    23, train loss 0.007886, train error 0.00,  val loss 1.558278, percent error 34.40\n",
      "Epoch    24, train loss 0.006851, train error 0.00,  val loss 1.571969, percent error 34.30\n",
      "Epoch    25, train loss 0.006108, train error 0.00,  val loss 1.597405, percent error 34.40\n",
      "Epoch    26, train loss 0.005484, train error 0.00,  val loss 1.609656, percent error 34.70\n",
      "Epoch    27, train loss 0.004997, train error 0.00,  val loss 1.628453, percent error 34.40\n",
      "Epoch    28, train loss 0.004618, train error 0.00,  val loss 1.641815, percent error 34.30\n",
      "Epoch    29, train loss 0.004287, train error 0.00,  val loss 1.654541, percent error 34.50\n",
      "Epoch    30, train loss 0.004009, train error 0.00,  val loss 1.668983, percent error 34.80\n",
      "Epoch    31, train loss 0.003786, train error 0.00,  val loss 1.678129, percent error 34.20\n",
      "Epoch    32, train loss 0.003544, train error 0.00,  val loss 1.689764, percent error 34.60\n",
      "Epoch    33, train loss 0.003369, train error 0.00,  val loss 1.701523, percent error 34.20\n",
      "Epoch    34, train loss 0.003197, train error 0.00,  val loss 1.712421, percent error 34.60\n",
      "Epoch    35, train loss 0.003036, train error 0.00,  val loss 1.721529, percent error 34.50\n",
      "Epoch    36, train loss 0.002895, train error 0.00,  val loss 1.729661, percent error 34.50\n",
      "Epoch    37, train loss 0.002769, train error 0.00,  val loss 1.738968, percent error 34.60\n",
      "Epoch    38, train loss 0.002659, train error 0.00,  val loss 1.748719, percent error 34.40\n",
      "Epoch    39, train loss 0.002560, train error 0.00,  val loss 1.757645, percent error 34.60\n",
      "Epoch    40, train loss 0.002496, train error 0.00,  val loss 1.761259, percent error 34.60\n",
      "Epoch    41, train loss 0.002449, train error 0.00,  val loss 1.764633, percent error 34.60\n",
      "Epoch    42, train loss 0.002404, train error 0.00,  val loss 1.768933, percent error 34.40\n",
      "Epoch    43, train loss 0.002360, train error 0.00,  val loss 1.771931, percent error 34.50\n",
      "Epoch    44, train loss 0.002318, train error 0.00,  val loss 1.775622, percent error 34.70\n",
      "Epoch    45, train loss 0.002278, train error 0.00,  val loss 1.778556, percent error 34.60\n",
      "Epoch    46, train loss 0.002238, train error 0.00,  val loss 1.782483, percent error 34.40\n",
      "Epoch    47, train loss 0.002200, train error 0.00,  val loss 1.784643, percent error 34.60\n",
      "Epoch    48, train loss 0.002164, train error 0.00,  val loss 1.788372, percent error 34.60\n",
      "Epoch    49, train loss 0.002128, train error 0.00,  val loss 1.791833, percent error 34.40\n",
      "Epoch    50, train loss 0.002094, train error 0.00,  val loss 1.795678, percent error 34.40\n",
      "Epoch    51, train loss 0.002060, train error 0.00,  val loss 1.798276, percent error 34.50\n",
      "Epoch    52, train loss 0.002029, train error 0.00,  val loss 1.801094, percent error 34.50\n",
      "Epoch    53, train loss 0.001997, train error 0.00,  val loss 1.804503, percent error 34.50\n",
      "Epoch    54, train loss 0.001968, train error 0.00,  val loss 1.807042, percent error 34.40\n",
      "Epoch    55, train loss 0.001937, train error 0.00,  val loss 1.810363, percent error 34.40\n",
      "Epoch    56, train loss 0.001909, train error 0.00,  val loss 1.813375, percent error 34.70\n",
      "Epoch    57, train loss 0.001882, train error 0.00,  val loss 1.816049, percent error 34.50\n",
      "Epoch    58, train loss 0.001854, train error 0.00,  val loss 1.819585, percent error 34.40\n",
      "Epoch    59, train loss 0.001829, train error 0.00,  val loss 1.822078, percent error 34.50\n",
      "Epoch    60, train loss 0.001816, train error 0.00,  val loss 1.823274, percent error 34.50\n",
      "Epoch    61, train loss 0.001803, train error 0.00,  val loss 1.825027, percent error 34.50\n",
      "Epoch    62, train loss 0.001790, train error 0.00,  val loss 1.826446, percent error 34.50\n",
      "Epoch    63, train loss 0.001778, train error 0.00,  val loss 1.827530, percent error 34.60\n",
      "Epoch    64, train loss 0.001766, train error 0.00,  val loss 1.828586, percent error 34.60\n",
      "Epoch    65, train loss 0.001754, train error 0.00,  val loss 1.829715, percent error 34.50\n",
      "Epoch    66, train loss 0.001742, train error 0.00,  val loss 1.831614, percent error 34.60\n",
      "Epoch    67, train loss 0.001731, train error 0.00,  val loss 1.832579, percent error 34.50\n",
      "Epoch    68, train loss 0.001719, train error 0.00,  val loss 1.834003, percent error 34.60\n",
      "Epoch    69, train loss 0.001708, train error 0.00,  val loss 1.835415, percent error 34.50\n",
      "Epoch    70, train loss 0.001697, train error 0.00,  val loss 1.836425, percent error 34.60\n",
      "Epoch    71, train loss 0.001686, train error 0.00,  val loss 1.837989, percent error 34.50\n",
      "Epoch    72, train loss 0.001675, train error 0.00,  val loss 1.839082, percent error 34.50\n",
      "Epoch    73, train loss 0.001664, train error 0.00,  val loss 1.840473, percent error 34.50\n",
      "Epoch    74, train loss 0.001654, train error 0.00,  val loss 1.841762, percent error 34.60\n",
      "Epoch    75, train loss 0.001643, train error 0.00,  val loss 1.843210, percent error 34.60\n",
      "Epoch    76, train loss 0.001633, train error 0.00,  val loss 1.844471, percent error 34.50\n",
      "Epoch    77, train loss 0.001623, train error 0.00,  val loss 1.845858, percent error 34.50\n",
      "Epoch    78, train loss 0.001613, train error 0.00,  val loss 1.846924, percent error 34.50\n",
      "Epoch    79, train loss 0.001603, train error 0.00,  val loss 1.848233, percent error 34.50\n",
      "Epoch    80, train loss 0.001598, train error 0.00,  val loss 1.848942, percent error 34.50\n",
      "Epoch    81, train loss 0.001593, train error 0.00,  val loss 1.849366, percent error 34.50\n",
      "Epoch    82, train loss 0.001588, train error 0.00,  val loss 1.849829, percent error 34.40\n",
      "Epoch    83, train loss 0.001583, train error 0.00,  val loss 1.850638, percent error 34.50\n",
      "Epoch    84, train loss 0.001578, train error 0.00,  val loss 1.851195, percent error 34.40\n",
      "Epoch    85, train loss 0.001574, train error 0.00,  val loss 1.851781, percent error 34.40\n",
      "Epoch    86, train loss 0.001569, train error 0.00,  val loss 1.852566, percent error 34.40\n",
      "Epoch    87, train loss 0.001564, train error 0.00,  val loss 1.852983, percent error 34.40\n",
      "Epoch    88, train loss 0.001559, train error 0.00,  val loss 1.853646, percent error 34.40\n",
      "Epoch    89, train loss 0.001555, train error 0.00,  val loss 1.854249, percent error 34.40\n",
      "Epoch    90, train loss 0.001550, train error 0.00,  val loss 1.854950, percent error 34.40\n",
      "Epoch    91, train loss 0.001545, train error 0.00,  val loss 1.855434, percent error 34.40\n",
      "Epoch    92, train loss 0.001541, train error 0.00,  val loss 1.856017, percent error 34.50\n",
      "Epoch    93, train loss 0.001536, train error 0.00,  val loss 1.856467, percent error 34.40\n",
      "Epoch    94, train loss 0.001532, train error 0.00,  val loss 1.857124, percent error 34.40\n",
      "Epoch    95, train loss 0.001527, train error 0.00,  val loss 1.857971, percent error 34.40\n",
      "Epoch    96, train loss 0.001523, train error 0.00,  val loss 1.858689, percent error 34.50\n",
      "Epoch    97, train loss 0.001518, train error 0.00,  val loss 1.858959, percent error 34.50\n",
      "Epoch    98, train loss 0.001514, train error 0.00,  val loss 1.859627, percent error 34.50\n",
      "Epoch    99, train loss 0.001509, train error 0.00,  val loss 1.860296, percent error 34.50\n"
     ]
    }
   ],
   "source": [
    "#Define the model\n",
    "model = ResidualNetwork(40, 10)\n",
    "\n",
    "# choose cross entropy loss function (equation 5.24 in the loss notes)\n",
    "loss_function = nn.CrossEntropyLoss()\n",
    "# construct SGD optimizer and initialize learning rate and momentum\n",
    "optimizer = torch.optim.SGD(model.parameters(), lr = 0.05, momentum=0.9)\n",
    "# object that decreases learning rate by half every 20 epochs\n",
    "scheduler = StepLR(optimizer, step_size=20, gamma=0.5)\n",
    "# convert data to torch tensors\n",
    "x_train = torch.tensor(train_data_x.transpose().astype('float32'))\n",
    "y_train = torch.tensor(train_data_y.astype('long'))\n",
    "x_val= torch.tensor(val_data_x.transpose().astype('float32'))\n",
    "y_val = torch.tensor(val_data_y.astype('long'))\n",
    "\n",
    "# load the data into a class that creates the batches\n",
    "data_loader = DataLoader(TensorDataset(x_train,y_train), batch_size=100, shuffle=True, worker_init_fn=np.random.seed(1))\n",
    "\n",
    "# Initialize model weights\n",
    "model.apply(weights_init)\n",
    "\n",
    "# loop over the dataset n_epoch times\n",
    "n_epoch = 100\n",
    "# store the loss and the % correct at each epoch\n",
    "losses_train = np.zeros((n_epoch))\n",
    "errors_train = np.zeros((n_epoch))\n",
    "losses_val = np.zeros((n_epoch))\n",
    "errors_val = np.zeros((n_epoch))\n",
    "\n",
    "for epoch in range(n_epoch):\n",
    "  # loop over batches\n",
    "  for i, data in enumerate(data_loader):\n",
    "    # retrieve inputs and labels for this batch\n",
    "    x_batch, y_batch = data\n",
    "    # zero the parameter gradients\n",
    "    optimizer.zero_grad()\n",
    "    # forward pass -- calculate model output\n",
    "    pred = model(x_batch)\n",
    "    # compute the loss\n",
    "    loss = loss_function(pred, y_batch)\n",
    "    # backward pass\n",
    "    loss.backward()\n",
    "    # SGD update\n",
    "    optimizer.step()\n",
    "\n",
    "  # Run whole dataset to get statistics -- normally wouldn't do this\n",
    "  pred_train = model(x_train)\n",
    "  pred_val = model(x_val)\n",
    "  _, predicted_train_class = torch.max(pred_train.data, 1)\n",
    "  _, predicted_val_class = torch.max(pred_val.data, 1)\n",
    "  errors_train[epoch] = 100 - 100 * (predicted_train_class == y_train).float().sum() / len(y_train)\n",
    "  errors_val[epoch]= 100 - 100 * (predicted_val_class == y_val).float().sum() / len(y_val)\n",
    "  losses_train[epoch] = loss_function(pred_train, y_train).item()\n",
    "  losses_val[epoch]= loss_function(pred_val, y_val).item()\n",
    "  print(f'Epoch {epoch:5d}, train loss {losses_train[epoch]:.6f}, train error {errors_train[epoch]:3.2f},  val loss {losses_val[epoch]:.6f}, percent error {errors_val[epoch]:3.2f}')\n",
    "\n",
    "  # tell scheduler to consider updating learning rate\n",
    "  scheduler.step()"
   ]
  },
  {
   "cell_type": "code",
   "execution_count": 15,
   "metadata": {},
   "outputs": [
    {
     "data": {
      "image/png": "[encoded data removed]",
      "text/plain": [
       "<Figure size 640x480 with 1 Axes>"
      ]
     },
     "metadata": {},
     "output_type": "display_data"
    }
   ],
   "source": [
    "# Plot the results\n",
    "fig, ax = plt.subplots()\n",
    "ax.plot(errors_train,'r-',label='train')\n",
    "ax.plot(errors_val,'b-',label='test')\n",
    "ax.set_ylim(0,100); ax.set_xlim(0,n_epoch)\n",
    "ax.set_xlabel('Epoch'); ax.set_ylabel('Error')\n",
    "ax.set_title('TrainError %3.2f, Val Error %3.2f'%(errors_train[-1],errors_val[-1]))\n",
    "ax.legend()\n",
    "plt.show()"
   ]
  },
  {
   "cell_type": "code",
   "execution_count": null,
   "metadata": {},
   "outputs": [],
   "source": []
  }
 ],
 "metadata": {
  "colab": {
   "authorship_tag": "ABX9TyMXS3SPB4cS/4qxix0lH/Hq",
   "include_colab_link": true,
   "provenance": []
  },
  "kernelspec": {
   "display_name": "Python 3 (ipykernel)",
   "language": "python",
   "name": "python3"
  },
  "language_info": {
   "codemirror_mode": {
    "name": "ipython",
    "version": 3
   },
   "file_extension": ".py",
   "mimetype": "text/x-python",
   "name": "python",
   "nbconvert_exporter": "python",
   "pygments_lexer": "ipython3",
   "version": "3.11.5"
  }
 },
 "nbformat": 4,
 "nbformat_minor": 4
}
