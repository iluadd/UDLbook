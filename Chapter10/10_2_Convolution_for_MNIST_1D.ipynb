{
 "cells": [
  {
   "cell_type": "markdown",
   "metadata": {
    "colab_type": "text",
    "id": "view-in-github"
   },
   "source": [
    "<a href=\"https://colab.research.google.com/github/udlbook/udlbook/blob/main/Notebooks/Chap10/10_2_Convolution_for_MNIST_1D.ipynb\" target=\"_parent\"><img src=\"https://colab.research.google.com/assets/colab-badge.svg\" alt=\"Open In Colab\"/></a>"
   ]
  },
  {
   "cell_type": "markdown",
   "metadata": {
    "id": "t9vk9Elugvmi"
   },
   "source": [
    "# **Notebook 10.2: Convolution for MNIST-1D**\n",
    "\n",
    "This notebook investigates a 1D convolutional network for MNIST-1D as in figure 10.7 and 10.8a.\n",
    "\n",
    "Work through the cells below, running each cell in turn. In various places you will see the words \"TO DO\". Follow the instructions at these places and make predictions about what is going to happen or write code to complete the functions.\n",
    "\n",
    "Contact me at udlbookmail@gmail.com if you find any mistakes or have any suggestions.\n",
    "\n"
   ]
  },
  {
   "cell_type": "code",
   "execution_count": 2,
   "metadata": {
    "id": "D5yLObtZCi9J"
   },
   "outputs": [
    {
     "name": "stdout",
     "output_type": "stream",
     "text": [
      "Cloning into 'mnist1d'...\n",
      "remote: Enumerating objects: 204, done.\u001b[K\n",
      "remote: Counting objects: 100% (76/76), done.\u001b[K\n",
      "remote: Compressing objects: 100% (35/35), done.\u001b[K\n",
      "remote: Total 204 (delta 47), reused 60 (delta 41), pack-reused 128\u001b[K\n",
      "Receiving objects: 100% (204/204), 8.42 MiB | 995.00 KiB/s, done.\n",
      "Resolving deltas: 100% (73/73), done.\n"
     ]
    }
   ],
   "source": [
    "# Run this if you're in a Colab to make a local copy of the MNIST 1D repository\n",
    "!git clone https://github.com/greydanus/mnist1d"
   ]
  },
  {
   "cell_type": "code",
   "execution_count": 3,
   "metadata": {
    "id": "YrXWAH7sUWvU"
   },
   "outputs": [],
   "source": [
    "import numpy as np\n",
    "import os\n",
    "import torch, torch.nn as nn\n",
    "from torch.utils.data import TensorDataset, DataLoader\n",
    "from torch.optim.lr_scheduler import StepLR\n",
    "import matplotlib.pyplot as plt\n",
    "import mnist1d\n",
    "import random"
   ]
  },
  {
   "cell_type": "code",
   "execution_count": 4,
   "metadata": {
    "id": "twI72ZCrCt5z"
   },
   "outputs": [
    {
     "name": "stdout",
     "output_type": "stream",
     "text": [
      "Did or could not load data from ./mnist1d_data.pkl. Rebuilding dataset...\n",
      "Examples in training set: 4000\n",
      "Examples in test set: 1000\n",
      "Length of each example: 40\n"
     ]
    }
   ],
   "source": [
    "args = mnist1d.data.get_dataset_args()\n",
    "data = mnist1d.data.get_dataset(args, path='./mnist1d_data.pkl', download=False, regenerate=False)\n",
    "\n",
    "# The training and test input and outputs are in\n",
    "# data['x'], data['y'], data['x_test'], and data['y_test']\n",
    "print(\"Examples in training set: {}\".format(len(data['y'])))\n",
    "print(\"Examples in test set: {}\".format(len(data['y_test'])))\n",
    "print(\"Length of each example: {}\".format(data['x'].shape[-1]))"
   ]
  },
  {
   "cell_type": "code",
   "execution_count": 5,
   "metadata": {
    "id": "8bKADvLHbiV5"
   },
   "outputs": [
    {
     "name": "stdout",
     "output_type": "stream",
     "text": [
      "Train data: 4000 examples (columns), each of which has 40 dimensions (rows)\n",
      "Validation data: 1000 examples (columns), each of which has 40 dimensions (rows)\n"
     ]
    }
   ],
   "source": [
    "# Load in the data\n",
    "train_data_x = data['x'].transpose()\n",
    "train_data_y = data['y']\n",
    "val_data_x = data['x_test'].transpose()\n",
    "val_data_y = data['y_test']\n",
    "# Print out sizes\n",
    "print(\"Train data: %d examples (columns), each of which has %d dimensions (rows)\"%((train_data_x.shape[1],train_data_x.shape[0])))\n",
    "print(\"Validation data: %d examples (columns), each of which has %d dimensions (rows)\"%((val_data_x.shape[1],val_data_x.shape[0])))"
   ]
  },
  {
   "cell_type": "markdown",
   "metadata": {
    "id": "_sFvRDGrl4qe"
   },
   "source": [
    "## Define the network"
   ]
  },
  {
   "cell_type": "code",
   "execution_count": 15,
   "metadata": {
    "id": "FslroPJJffrh"
   },
   "outputs": [],
   "source": [
    "# There are 40 input dimensions and 10 output dimensions for this data\n",
    "# The inputs correspond to the 40 offsets in the MNIST1D template.\n",
    "D_i = 40\n",
    "# The outputs correspond to the 10 digits\n",
    "D_o = 10\n",
    "\n",
    "\n",
    "# TODO Create a model with the following layers\n",
    "# 1. Convolutional layer, (input=length 40 and 1 channel, kernel size 3, stride 2, padding=\"valid\", 15 output channels )\n",
    "# 2. ReLU\n",
    "# 3. Convolutional layer, (input=length 19 and 15 channels, kernel size 3, stride 2, padding=\"valid\", 15 output channels )\n",
    "# 4. ReLU\n",
    "# 5. Convolutional layer, (input=length 9 and 15 channels, kernel size 3, stride 2, padding=\"valid\", 15 output channels)\n",
    "# 6. ReLU\n",
    "# 7. Flatten (converts 4x15) to length 60\n",
    "# 8. Linear layer (input size = 60, output size = 10)\n",
    "# References:\n",
    "# https://pytorch.org/docs/1.13/generated/torch.nn.Conv1d.html?highlight=conv1d#torch.nn.Conv1d\n",
    "# https://pytorch.org/docs/stable/generated/torch.nn.Flatten.html\n",
    "# https://pytorch.org/docs/1.13/generated/torch.nn.Linear.html?highlight=linear#torch.nn.Linear\n",
    "model = nn.Sequential(\n",
    "    nn.Conv1d(1, 15,kernel_size=3, stride=2, padding=\"valid\"),\n",
    "    nn.ReLU(),\n",
    "    nn.Conv1d(15, 15,kernel_size=3, stride=2, padding=\"valid\"),\n",
    "    nn.ReLU(),\n",
    "    nn.Conv1d(15, 15,kernel_size=3, stride=2, padding=\"valid\"),\n",
    "    nn.ReLU(),\n",
    "    nn.Flatten(),\n",
    "    nn.Linear(60, D_o)\n",
    ")\n",
    "\n",
    "# NOTE THAT THE CONVOLUTIONAL LAYERS NEED TO TAKE THE NUMBER OF INPUT CHANNELS AS A PARAMETER\n",
    "# AND NOT THE INPUT SIZE.\n",
    "\n",
    "# Replace the following function:\n",
    "# model = nn.Sequential(\n",
    "# nn.Flatten(),\n",
    "# nn.Linear(40, 100),\n",
    "# nn.ReLU(),\n",
    "# nn.Linear(100, 100),\n",
    "# nn.ReLU(),\n",
    "# nn.Linear(100, 10))\n",
    "\n",
    "\n",
    "\n"
   ]
  },
  {
   "cell_type": "code",
   "execution_count": 9,
   "metadata": {
    "id": "YgLaex1pfhqz"
   },
   "outputs": [],
   "source": [
    "# He initialization of weights\n",
    "def weights_init(layer_in):\n",
    "  if isinstance(layer_in, nn.Linear):\n",
    "    nn.init.kaiming_uniform_(layer_in.weight)\n",
    "    layer_in.bias.data.fill_(0.0)"
   ]
  },
  {
   "cell_type": "code",
   "execution_count": 16,
   "metadata": {
    "id": "NYw8I_3mmX5c"
   },
   "outputs": [
    {
     "name": "stdout",
     "output_type": "stream",
     "text": [
      "Epoch     0, train loss 1.948850, train error 78.30,  val loss 1.963047, percent error 79.60\n",
      "Epoch     1, train loss 1.507747, train error 60.17,  val loss 1.523874, percent error 63.30\n",
      "Epoch     2, train loss 1.387928, train error 56.10,  val loss 1.398586, percent error 56.80\n",
      "Epoch     3, train loss 1.287759, train error 53.50,  val loss 1.317372, percent error 55.40\n",
      "Epoch     4, train loss 1.209773, train error 47.65,  val loss 1.230231, percent error 50.60\n",
      "Epoch     5, train loss 1.066990, train error 42.53,  val loss 1.093585, percent error 46.30\n",
      "Epoch     6, train loss 1.000928, train error 40.70,  val loss 1.048381, percent error 43.40\n",
      "Epoch     7, train loss 0.949855, train error 40.05,  val loss 0.997386, percent error 42.40\n",
      "Epoch     8, train loss 0.828097, train error 33.50,  val loss 0.870300, percent error 37.30\n",
      "Epoch     9, train loss 0.815229, train error 32.70,  val loss 0.868377, percent error 34.80\n",
      "Epoch    10, train loss 0.830122, train error 31.90,  val loss 0.904019, percent error 32.50\n",
      "Epoch    11, train loss 0.699111, train error 29.03,  val loss 0.760897, percent error 30.80\n",
      "Epoch    12, train loss 0.628907, train error 24.55,  val loss 0.721500, percent error 28.40\n",
      "Epoch    13, train loss 0.492275, train error 17.55,  val loss 0.630223, percent error 23.90\n",
      "Epoch    14, train loss 0.637401, train error 22.12,  val loss 0.780645, percent error 24.70\n",
      "Epoch    15, train loss 0.369963, train error 12.93,  val loss 0.479576, percent error 17.60\n",
      "Epoch    16, train loss 0.326752, train error 11.53,  val loss 0.447637, percent error 16.00\n",
      "Epoch    17, train loss 0.317508, train error 11.12,  val loss 0.448216, percent error 16.40\n",
      "Epoch    18, train loss 0.335489, train error 12.15,  val loss 0.457554, percent error 17.00\n",
      "Epoch    19, train loss 0.257368, train error 9.00,  val loss 0.419625, percent error 12.70\n",
      "Epoch    20, train loss 0.209392, train error 7.15,  val loss 0.371310, percent error 13.10\n",
      "Epoch    21, train loss 0.205515, train error 6.88,  val loss 0.373671, percent error 12.10\n",
      "Epoch    22, train loss 0.191182, train error 6.90,  val loss 0.381185, percent error 12.10\n",
      "Epoch    23, train loss 0.198281, train error 7.12,  val loss 0.368530, percent error 13.10\n",
      "Epoch    24, train loss 0.169648, train error 5.75,  val loss 0.338056, percent error 11.40\n",
      "Epoch    25, train loss 0.181558, train error 6.47,  val loss 0.390374, percent error 13.40\n",
      "Epoch    26, train loss 0.151103, train error 5.25,  val loss 0.348777, percent error 10.60\n",
      "Epoch    27, train loss 0.160392, train error 5.45,  val loss 0.326086, percent error 11.00\n",
      "Epoch    28, train loss 0.153535, train error 5.38,  val loss 0.351961, percent error 11.70\n",
      "Epoch    29, train loss 0.130191, train error 4.53,  val loss 0.349492, percent error 10.50\n",
      "Epoch    30, train loss 0.158868, train error 5.82,  val loss 0.368955, percent error 10.40\n",
      "Epoch    31, train loss 0.121803, train error 4.05,  val loss 0.343814, percent error 11.70\n",
      "Epoch    32, train loss 0.148086, train error 5.25,  val loss 0.394795, percent error 12.20\n",
      "Epoch    33, train loss 0.126271, train error 4.30,  val loss 0.360108, percent error 11.30\n",
      "Epoch    34, train loss 0.133589, train error 4.78,  val loss 0.393926, percent error 11.20\n",
      "Epoch    35, train loss 0.129304, train error 4.80,  val loss 0.381971, percent error 11.50\n",
      "Epoch    36, train loss 0.108995, train error 3.65,  val loss 0.358634, percent error 11.40\n",
      "Epoch    37, train loss 0.107458, train error 3.78,  val loss 0.353671, percent error 10.00\n",
      "Epoch    38, train loss 0.092844, train error 2.78,  val loss 0.354338, percent error 10.50\n",
      "Epoch    39, train loss 0.086475, train error 2.70,  val loss 0.344324, percent error 11.00\n",
      "Epoch    40, train loss 0.077838, train error 2.15,  val loss 0.354722, percent error 10.50\n",
      "Epoch    41, train loss 0.079569, train error 2.55,  val loss 0.352983, percent error 10.30\n",
      "Epoch    42, train loss 0.074351, train error 2.10,  val loss 0.354235, percent error 10.30\n",
      "Epoch    43, train loss 0.077409, train error 2.32,  val loss 0.336354, percent error 10.10\n",
      "Epoch    44, train loss 0.074208, train error 2.12,  val loss 0.350992, percent error 10.40\n",
      "Epoch    45, train loss 0.073429, train error 2.18,  val loss 0.363133, percent error 10.60\n",
      "Epoch    46, train loss 0.074467, train error 2.18,  val loss 0.375390, percent error 10.30\n",
      "Epoch    47, train loss 0.065483, train error 1.90,  val loss 0.362731, percent error 10.20\n",
      "Epoch    48, train loss 0.065318, train error 1.85,  val loss 0.376956, percent error 10.60\n",
      "Epoch    49, train loss 0.066720, train error 1.93,  val loss 0.363094, percent error 10.30\n",
      "Epoch    50, train loss 0.064872, train error 1.70,  val loss 0.364118, percent error 10.10\n",
      "Epoch    51, train loss 0.062572, train error 1.88,  val loss 0.365048, percent error 9.90\n",
      "Epoch    52, train loss 0.076543, train error 2.45,  val loss 0.402358, percent error 10.60\n",
      "Epoch    53, train loss 0.073238, train error 2.55,  val loss 0.406417, percent error 10.40\n",
      "Epoch    54, train loss 0.064571, train error 1.90,  val loss 0.396575, percent error 10.00\n",
      "Epoch    55, train loss 0.057149, train error 1.45,  val loss 0.384550, percent error 10.40\n",
      "Epoch    56, train loss 0.056764, train error 1.40,  val loss 0.367294, percent error 10.00\n",
      "Epoch    57, train loss 0.057779, train error 1.32,  val loss 0.389457, percent error 10.60\n",
      "Epoch    58, train loss 0.054011, train error 1.45,  val loss 0.389453, percent error 10.10\n",
      "Epoch    59, train loss 0.058250, train error 1.65,  val loss 0.407797, percent error 10.20\n",
      "Epoch    60, train loss 0.052151, train error 1.47,  val loss 0.399665, percent error 9.60\n",
      "Epoch    61, train loss 0.049572, train error 1.18,  val loss 0.384106, percent error 9.80\n",
      "Epoch    62, train loss 0.048386, train error 1.20,  val loss 0.393282, percent error 10.00\n",
      "Epoch    63, train loss 0.050405, train error 1.40,  val loss 0.399022, percent error 10.20\n",
      "Epoch    64, train loss 0.047484, train error 1.10,  val loss 0.392027, percent error 10.10\n",
      "Epoch    65, train loss 0.047931, train error 1.18,  val loss 0.402265, percent error 10.40\n",
      "Epoch    66, train loss 0.047155, train error 1.05,  val loss 0.402695, percent error 9.80\n",
      "Epoch    67, train loss 0.046331, train error 1.00,  val loss 0.396384, percent error 9.90\n",
      "Epoch    68, train loss 0.045214, train error 0.93,  val loss 0.404230, percent error 10.30\n",
      "Epoch    69, train loss 0.045156, train error 1.00,  val loss 0.403429, percent error 10.00\n",
      "Epoch    70, train loss 0.045321, train error 1.07,  val loss 0.406437, percent error 10.10\n",
      "Epoch    71, train loss 0.043778, train error 0.93,  val loss 0.406511, percent error 10.30\n",
      "Epoch    72, train loss 0.045229, train error 1.05,  val loss 0.405175, percent error 10.30\n",
      "Epoch    73, train loss 0.044230, train error 1.00,  val loss 0.408473, percent error 10.10\n",
      "Epoch    74, train loss 0.047959, train error 1.18,  val loss 0.415092, percent error 10.80\n",
      "Epoch    75, train loss 0.042986, train error 0.88,  val loss 0.413676, percent error 10.30\n",
      "Epoch    76, train loss 0.043560, train error 1.00,  val loss 0.423038, percent error 9.80\n",
      "Epoch    77, train loss 0.041293, train error 0.93,  val loss 0.417458, percent error 10.10\n",
      "Epoch    78, train loss 0.040488, train error 0.80,  val loss 0.414817, percent error 10.10\n",
      "Epoch    79, train loss 0.042576, train error 1.00,  val loss 0.422482, percent error 10.30\n",
      "Epoch    80, train loss 0.040371, train error 0.80,  val loss 0.423517, percent error 9.90\n",
      "Epoch    81, train loss 0.039101, train error 0.70,  val loss 0.418428, percent error 10.00\n",
      "Epoch    82, train loss 0.038625, train error 0.70,  val loss 0.420678, percent error 10.00\n",
      "Epoch    83, train loss 0.038904, train error 0.78,  val loss 0.418766, percent error 10.20\n",
      "Epoch    84, train loss 0.038679, train error 0.75,  val loss 0.421226, percent error 10.30\n",
      "Epoch    85, train loss 0.038479, train error 0.70,  val loss 0.421984, percent error 10.10\n",
      "Epoch    86, train loss 0.038019, train error 0.72,  val loss 0.422733, percent error 10.10\n",
      "Epoch    87, train loss 0.038201, train error 0.80,  val loss 0.423718, percent error 10.10\n",
      "Epoch    88, train loss 0.038570, train error 0.85,  val loss 0.427697, percent error 10.00\n",
      "Epoch    89, train loss 0.037311, train error 0.72,  val loss 0.422077, percent error 10.10\n",
      "Epoch    90, train loss 0.037046, train error 0.72,  val loss 0.427038, percent error 10.10\n",
      "Epoch    91, train loss 0.037130, train error 0.78,  val loss 0.426028, percent error 10.00\n",
      "Epoch    92, train loss 0.036782, train error 0.72,  val loss 0.429498, percent error 9.70\n",
      "Epoch    93, train loss 0.036954, train error 0.78,  val loss 0.431632, percent error 10.10\n",
      "Epoch    94, train loss 0.036806, train error 0.75,  val loss 0.430996, percent error 10.10\n",
      "Epoch    95, train loss 0.035974, train error 0.68,  val loss 0.429621, percent error 10.00\n",
      "Epoch    96, train loss 0.036324, train error 0.68,  val loss 0.433387, percent error 10.10\n",
      "Epoch    97, train loss 0.035657, train error 0.78,  val loss 0.429514, percent error 10.10\n",
      "Epoch    98, train loss 0.036940, train error 0.68,  val loss 0.434783, percent error 10.30\n",
      "Epoch    99, train loss 0.036269, train error 0.68,  val loss 0.435204, percent error 10.20\n"
     ]
    },
    {
     "data": {
      "image/png": "[encoded data removed]",
      "text/plain": [
       "<Figure size 640x480 with 1 Axes>"
      ]
     },
     "metadata": {},
     "output_type": "display_data"
    }
   ],
   "source": [
    "# choose cross entropy loss function (equation 5.24 in the loss notes)\n",
    "loss_function = nn.CrossEntropyLoss()\n",
    "# construct SGD optimizer and initialize learning rate and momentum\n",
    "optimizer = torch.optim.SGD(model.parameters(), lr = 0.05, momentum=0.9)\n",
    "# object that decreases learning rate by half every 20 epochs\n",
    "scheduler = StepLR(optimizer, step_size=20, gamma=0.5)\n",
    "# create 100 dummy data points and store in data loader class\n",
    "x_train = torch.tensor(train_data_x.transpose().astype('float32'))\n",
    "y_train = torch.tensor(train_data_y.astype('long')).long()\n",
    "x_val= torch.tensor(val_data_x.transpose().astype('float32'))\n",
    "y_val = torch.tensor(val_data_y.astype('long')).long()\n",
    "\n",
    "# load the data into a class that creates the batches\n",
    "data_loader = DataLoader(TensorDataset(x_train,y_train), batch_size=100, shuffle=True, worker_init_fn=np.random.seed(1))\n",
    "\n",
    "# Initialize model weights\n",
    "model.apply(weights_init)\n",
    "\n",
    "# loop over the dataset n_epoch times\n",
    "n_epoch = 100\n",
    "# store the loss and the % correct at each epoch\n",
    "losses_train = np.zeros((n_epoch))\n",
    "errors_train = np.zeros((n_epoch))\n",
    "losses_val = np.zeros((n_epoch))\n",
    "errors_val = np.zeros((n_epoch))\n",
    "\n",
    "for epoch in range(n_epoch):\n",
    "  # loop over batches\n",
    "  for i, data in enumerate(data_loader):\n",
    "    # retrieve inputs and labels for this batch\n",
    "    x_batch, y_batch = data\n",
    "    # zero the parameter gradients\n",
    "    optimizer.zero_grad()\n",
    "    # forward pass -- calculate model output\n",
    "    pred = model(x_batch[:,None,:])\n",
    "    # compute the loss\n",
    "    loss = loss_function(pred, y_batch)\n",
    "    # backward pass\n",
    "    loss.backward()\n",
    "    # SGD update\n",
    "    optimizer.step()\n",
    "\n",
    "  # Run whole dataset to get statistics -- normally wouldn't do this\n",
    "  pred_train = model(x_train[:,None,:])\n",
    "  pred_val = model(x_val[:,None,:])\n",
    "  _, predicted_train_class = torch.max(pred_train.data, 1)\n",
    "  _, predicted_val_class = torch.max(pred_val.data, 1)\n",
    "  errors_train[epoch] = 100 - 100 * (predicted_train_class == y_train).float().sum() / len(y_train)\n",
    "  errors_val[epoch]= 100 - 100 * (predicted_val_class == y_val).float().sum() / len(y_val)\n",
    "  losses_train[epoch] = loss_function(pred_train, y_train).item()\n",
    "  losses_val[epoch]= loss_function(pred_val, y_val).item()\n",
    "  print(f'Epoch {epoch:5d}, train loss {losses_train[epoch]:.6f}, train error {errors_train[epoch]:3.2f},  val loss {losses_val[epoch]:.6f}, percent error {errors_val[epoch]:3.2f}')\n",
    "\n",
    "  # tell scheduler to consider updating learning rate\n",
    "  scheduler.step()\n",
    "\n",
    "# Plot the results\n",
    "fig, ax = plt.subplots()\n",
    "ax.plot(errors_train,'r-',label='train')\n",
    "ax.plot(errors_val,'b-',label='validation')\n",
    "ax.set_ylim(0,100); ax.set_xlim(0,n_epoch)\n",
    "ax.set_xlabel('Epoch'); ax.set_ylabel('Error')\n",
    "ax.set_title('Part I: Validation Result %3.2f'%(errors_val[-1]))\n",
    "ax.legend()\n",
    "plt.show()"
   ]
  },
  {
   "cell_type": "code",
   "execution_count": null,
   "metadata": {},
   "outputs": [],
   "source": []
  }
 ],
 "metadata": {
  "colab": {
   "authorship_tag": "ABX9TyNJodaaCLMRWL9vTl8B/iLI",
   "include_colab_link": true,
   "provenance": []
  },
  "kernelspec": {
   "display_name": "Python 3 (ipykernel)",
   "language": "python",
   "name": "python3"
  },
  "language_info": {
   "codemirror_mode": {
    "name": "ipython",
    "version": 3
   },
   "file_extension": ".py",
   "mimetype": "text/x-python",
   "name": "python",
   "nbconvert_exporter": "python",
   "pygments_lexer": "ipython3",
   "version": "3.11.5"
  }
 },
 "nbformat": 4,
 "nbformat_minor": 4
}
